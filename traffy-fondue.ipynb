{
 "cells": [
  {
   "cell_type": "code",
   "execution_count": 8,
   "metadata": {},
   "outputs": [
    {
     "name": "stdout",
     "output_type": "stream",
     "text": [
      "Requirement already satisfied: pyspark in c:\\users\\namo\\miniconda3\\lib\\site-packages (3.4.0)\n",
      "Requirement already satisfied: py4j==0.10.9.7 in c:\\users\\namo\\miniconda3\\lib\\site-packages (from pyspark) (0.10.9.7)\n",
      "Requirement already satisfied: findspark in c:\\users\\namo\\miniconda3\\lib\\site-packages (2.0.1)\n",
      "Requirement already satisfied: folium in c:\\users\\namo\\miniconda3\\lib\\site-packages (0.14.0)\n",
      "Requirement already satisfied: requests in c:\\users\\namo\\miniconda3\\lib\\site-packages (from folium) (2.28.1)\n",
      "Requirement already satisfied: numpy in c:\\users\\namo\\miniconda3\\lib\\site-packages (from folium) (1.23.5)\n",
      "Requirement already satisfied: branca>=0.6.0 in c:\\users\\namo\\miniconda3\\lib\\site-packages (from folium) (0.6.0)\n",
      "Requirement already satisfied: jinja2>=2.9 in c:\\users\\namo\\miniconda3\\lib\\site-packages (from folium) (3.1.2)\n",
      "Requirement already satisfied: MarkupSafe>=2.0 in c:\\users\\namo\\miniconda3\\lib\\site-packages (from jinja2>=2.9->folium) (2.1.2)\n",
      "Requirement already satisfied: charset-normalizer<3,>=2 in c:\\users\\namo\\miniconda3\\lib\\site-packages (from requests->folium) (2.0.4)\n",
      "Requirement already satisfied: urllib3<1.27,>=1.21.1 in c:\\users\\namo\\miniconda3\\lib\\site-packages (from requests->folium) (1.26.14)\n",
      "Requirement already satisfied: idna<4,>=2.5 in c:\\users\\namo\\miniconda3\\lib\\site-packages (from requests->folium) (3.4)\n",
      "Requirement already satisfied: certifi>=2017.4.17 in c:\\users\\namo\\miniconda3\\lib\\site-packages (from requests->folium) (2022.12.7)\n",
      "Requirement already satisfied: geopy in c:\\users\\namo\\miniconda3\\lib\\site-packages (2.3.0)\n",
      "Requirement already satisfied: geographiclib<3,>=1.52 in c:\\users\\namo\\miniconda3\\lib\\site-packages (from geopy) (2.0)\n",
      "Requirement already satisfied: scikit-learn in c:\\users\\namo\\miniconda3\\lib\\site-packages (1.2.2)\n",
      "Requirement already satisfied: threadpoolctl>=2.0.0 in c:\\users\\namo\\miniconda3\\lib\\site-packages (from scikit-learn) (3.1.0)\n",
      "Requirement already satisfied: numpy>=1.17.3 in c:\\users\\namo\\miniconda3\\lib\\site-packages (from scikit-learn) (1.23.5)\n",
      "Requirement already satisfied: scipy>=1.3.2 in c:\\users\\namo\\miniconda3\\lib\\site-packages (from scikit-learn) (1.10.1)\n",
      "Requirement already satisfied: joblib>=1.1.1 in c:\\users\\namo\\miniconda3\\lib\\site-packages (from scikit-learn) (1.2.0)\n"
     ]
    }
   ],
   "source": [
    "! pip install pyspark\n",
    "! pip install findspark\n",
    "! pip install folium\n",
    "! pip install geopy\n",
    "! pip install scikit-learn"
   ]
  },
  {
   "cell_type": "code",
   "execution_count": 46,
   "metadata": {},
   "outputs": [],
   "source": [
    "import os\n",
    "import findspark\n",
    "from pyspark.sql import SparkSession\n",
    "from pyspark.sql.functions import col, avg, min, max, countDistinct, desc, explode, split, col, isnull, sum, isnan, when, count, array, reverse, udf\n",
    "from pyspark.sql.types import ArrayType, StringType\n",
    "from pyspark.ml import Pipeline\n",
    "from pyspark.ml.feature import OneHotEncoder, StringIndexer, VectorAssembler\n",
    "import numpy as np\n",
    "import pandas as pd\n",
    "from sklearn.impute import SimpleImputer\n",
    "from scipy.stats import kurtosis, skew\n",
    "import math\n",
    "import folium\n",
    "from geopy.geocoders import Nominatim\n",
    "from itertools import chain"
   ]
  },
  {
   "cell_type": "code",
   "execution_count": 2,
   "metadata": {},
   "outputs": [],
   "source": [
    "findspark.init()"
   ]
  },
  {
   "cell_type": "code",
   "execution_count": 3,
   "metadata": {},
   "outputs": [],
   "source": [
    "spark_url = 'local'\n",
    "spark = SparkSession.builder\\\n",
    "        .master(spark_url)\\\n",
    "        .appName('Spark Project')\\\n",
    "        .getOrCreate()\n",
    "spark.conf.set(\"spark.sql.csv.parser.multiLine\", \"true\")"
   ]
  },
  {
   "cell_type": "code",
   "execution_count": 26,
   "metadata": {},
   "outputs": [
    {
     "name": "stdout",
     "output_type": "stream",
     "text": [
      "+-----------+-------------------+--------------------+--------------------+--------------------+--------------------+------------------+--------------------+-----------+--------+--------------------+--------------------+--------------+----+------------+--------------------+\n",
      "|  ticket_id|               type|        organization|             comment|               photo|         photo_after|            coords|             address|subdistrict|district|            province|           timestamp|         state|star|count_reopen|       last_activity|\n",
      "+-----------+-------------------+--------------------+--------------------+--------------------+--------------------+------------------+--------------------+-----------+--------+--------------------+--------------------+--------------+----+------------+--------------------+\n",
      "|2021-9LHDM6|                 {}|                null|            ไม่มีภาพ|https://storage.g...|                null|100.48661,13.79386|1867 จรัญสนิทวงศ์...|    บางพลัด| บางพลัด|       กรุงเทพมหานคร|2021-09-01 10:44:...|กำลังดำเนินการ|null|        null|2022-02-22 04:59:...|\n",
      "|2021-FYJTFP|        {ความสะอาด}|          เขตบางซื่อ|             ขยะเยอะ|https://storage.g...|                null|100.53084,13.81865|12/14 ถนน กรุงเทพ...|       null|    null|       กรุงเทพมหานคร|2021-09-03 12:51:...|     เสร็จสิ้น|null|        null|2022-06-04 15:34:...|\n",
      "|2021-8GKAR9|            {สายไฟ}|ยังไม่มีหน่วยงานร...|1. เถาวัลย์งอดบนส...|https://storage.g...|                null|100.57685,13.79704|335/31 ลาดพร้าว แ...|  สามเสนนอก|ห้วยขวาง|จังหวัดกรุงเทพมหานคร|2021-09-19 06:47:...|กำลังดำเนินการ|null|        null|2022-02-22 04:30:...|\n",
      "|2021-AFPUXZ|        {ถนน,สะพาน}|                null|1 ซ่อมทางเท้าหลัง...|https://storage.g...|                null|100.52916,13.72338|37 10 ซอย สีลม 9 ...|       สีลม|  บางรัก|       กรุงเทพมหานคร|2021-09-19 07:40:...|กำลังดำเนินการ|null|        null|2022-02-22 04:30:...|\n",
      "|2021-CGPMUN|{น้ำท่วม,ร้องเรียน}|เขตประเวศ,ฝ่ายโยธ...|น้ำท่วมเวลาฝนตกแล...|https://storage.g...|https://storage.g...|100.66709,13.67891|189 เฉลิมพระเกียร...|    หนองบอน|  ประเวศ|       กรุงเทพมหานคร|2021-09-19 14:56:...|     เสร็จสิ้น|   4|        null|2022-06-21 08:21:...|\n",
      "+-----------+-------------------+--------------------+--------------------+--------------------+--------------------+------------------+--------------------+-----------+--------+--------------------+--------------------+--------------+----+------------+--------------------+\n",
      "only showing top 5 rows\n",
      "\n"
     ]
    }
   ],
   "source": [
    "path = 'bangkok_traffy.csv'\n",
    "df = spark.read.option(\"multiLine\", \"true\").csv(path, header=True, inferSchema=True)\n",
    "df.show(5)"
   ]
  },
  {
   "cell_type": "code",
   "execution_count": 27,
   "metadata": {},
   "outputs": [
    {
     "name": "stdout",
     "output_type": "stream",
     "text": [
      "+---------+----+------------+-------+-----+-----------+------+-------+-----------+--------+--------+---------+-----+------+------------+-------------+\n",
      "|ticket_id|type|organization|comment|photo|photo_after|coords|address|subdistrict|district|province|timestamp|state|  star|count_reopen|last_activity|\n",
      "+---------+----+------------+-------+-----+-----------+------+-------+-----------+--------+--------+---------+-----+------+------------+-------------+\n",
      "|     2441|1570|        2659|   3959| 2114|      85681|  2044|   4486|       2114|    2117|    2423|     2258| 2051|164873|      120071|         2574|\n",
      "+---------+----+------------+-------+-----+-----------+------+-------+-----------+--------+--------+---------+-----+------+------------+-------------+\n",
      "\n"
     ]
    }
   ],
   "source": [
    "null_counts = df.select([count(when(isnan(c) | col(c).isNull(), c)).alias(c) for c in df.columns])\n",
    "null_counts.show()"
   ]
  },
  {
   "cell_type": "code",
   "execution_count": 28,
   "metadata": {},
   "outputs": [
    {
     "name": "stdout",
     "output_type": "stream",
     "text": [
      "Row(ticket_id=None, type='{ถนน}', organization='สำนักงาน ป.ป.ท.,เขตจอมทอง,ฝ่ายเทศกิจ เขตจอมทอง,ผอ.เขตจอมทอง (นายณัฐพงษ์),กลุ่มกรุงธนเหนือ (รองปลัดฯ เฉลิมพล)', comment=None, photo='https://storage.googleapis.com/traffy_public_bucket/TeamChadChart/corruption_photo2.png', photo_after='https://storage.googleapis.com/traffy_public_bucket/attachment/2022-06/e9596093de70ae8abacd6574f26a2d0f4466fe9f.jpg', coords='100.45568,13.69103', address=None, subdistrict='บางขุนเทียน', district='จอมทอง', province='กรุงเทพมหานคร', timestamp='2022-06-09 23:34:34.98044+00', state='เสร็จสิ้น', star='5', count_reopen=None, last_activity='2022-06-10 11:02:34.607728+00') \n",
      "\n",
      "Row(ticket_id='2022-7DABXT', type='{สะพาน}', organization=None, comment='\"เคยดีใจมีสายสีน้ำเงินสถานี\"\"แยกไฟฉาย\"\"', photo=None, photo_after=None, coords=None, address=None, subdistrict=None, district=None, province=None, timestamp=None, state=None, star=None, count_reopen=None, last_activity=None) \n",
      "\n",
      "Row(ticket_id='2022-7DABXT', type='{สะพาน}', organization=None, comment='\"เคยดีใจมีสายสีน้ำเงินสถานี\"\"แยกไฟฉาย\"\"', photo=None, photo_after=None, coords=None, address=None, subdistrict=None, district=None, province=None, timestamp=None, state=None, star=None, count_reopen=None, last_activity=None) \n",
      "\n"
     ]
    }
   ],
   "source": [
    "# Filter the DataFrame to include only rows with null values in the \"column_name\" column\n",
    "ticket_id_null_df = df.filter(df.ticket_id.isNull())\n",
    "coords_null_df = df.filter(df.coords.isNull())\n",
    "address_null_df = df.filter(df.address.isNull())\n",
    "\n",
    "def check_first_null(filtered_df):\n",
    "    # Check if the filtered DataFrame is empty\n",
    "    if filtered_df.count() == 0:\n",
    "        return f\"No null values in {filtered_df}.\"\n",
    "    else:\n",
    "        first_row = filtered_df.head()\n",
    "        return first_row\n",
    "\n",
    "print(check_first_null(ticket_id_null_df), \"\\n\")\n",
    "print(check_first_null(coords_null_df), \"\\n\")\n",
    "print(check_first_null(address_null_df), \"\\n\")"
   ]
  },
  {
   "attachments": {},
   "cell_type": "markdown",
   "metadata": {},
   "source": [
    "From above cells give us the first row with null value from each column selected (ticket_id, coords, address) to tell some relationship of those null value.\n",
    "1. The ticket_id is null when the state='เสร็จสิ้น', it's mean we cannot drop this column significantly.\n",
    "2. The address has null value 2 times more than coords. In the first null row we can see both of them are null. So it might tell that if no coords, no address too and not vice versa. We'll check in next step. "
   ]
  },
  {
   "cell_type": "code",
   "execution_count": 30,
   "metadata": {},
   "outputs": [
    {
     "name": "stdout",
     "output_type": "stream",
     "text": [
      "+------+-------+\n",
      "|coords|address|\n",
      "+------+-------+\n",
      "|     1|   2443|\n",
      "+------+-------+\n",
      "\n"
     ]
    }
   ],
   "source": [
    "sub = ['coords', 'address']\n",
    "df = df.dropna(how='all', subset=sub)\n",
    "sub_null_counts = df.select([count(when(isnan(c) | col(c).isNull(), c)).alias(c) for c in sub])\n",
    "sub_null_counts.show()"
   ]
  },
  {
   "attachments": {},
   "cell_type": "markdown",
   "metadata": {},
   "source": [
    "As we can see, the null coords most dissapear. So, we don't need to map any address to coords and we can also drop all remained null column."
   ]
  },
  {
   "cell_type": "code",
   "execution_count": 31,
   "metadata": {},
   "outputs": [],
   "source": [
    "df = df.dropna(how='all', subset=['coords'])\n",
    "df = df.dropna(how='all', subset=['address'])"
   ]
  },
  {
   "attachments": {},
   "cell_type": "markdown",
   "metadata": {},
   "source": [
    "From this step, we'll use df_use to be a data for ML"
   ]
  },
  {
   "cell_type": "code",
   "execution_count": 58,
   "metadata": {},
   "outputs": [
    {
     "name": "stdout",
     "output_type": "stream",
     "text": [
      "+-----------+-------------------+--------------------+--------------------+--------------------+--------------------+--------------------+--------------------+-----------+--------+--------------------+--------------------+-----+----+------------+--------------------+\n",
      "|  ticket_id|               type|        organization|             comment|               photo|         photo_after|              coords|             address|subdistrict|district|            province|           timestamp|state|star|count_reopen|       last_activity|\n",
      "+-----------+-------------------+--------------------+--------------------+--------------------+--------------------+--------------------+--------------------+-----------+--------+--------------------+--------------------+-----+----+------------+--------------------+\n",
      "|2021-9LHDM6|                 {}|                null|            ไม่มีภาพ|https://storage.g...|                null|[13.79386, 100.48...|1867 จรัญสนิทวงศ์...|    บางพลัด| บางพลัด|       กรุงเทพมหานคร|2021-09-01 10:44:...|    0|null|        null|2022-02-22 04:59:...|\n",
      "|2021-FYJTFP|        {ความสะอาด}|          เขตบางซื่อ|             ขยะเยอะ|https://storage.g...|                null|[13.81865, 100.53...|12/14 ถนน กรุงเทพ...|       null|    null|       กรุงเทพมหานคร|2021-09-03 12:51:...|    1|null|        null|2022-06-04 15:34:...|\n",
      "|2021-8GKAR9|            {สายไฟ}|ยังไม่มีหน่วยงานร...|1. เถาวัลย์งอดบนส...|https://storage.g...|                null|[13.79704, 100.57...|335/31 ลาดพร้าว แ...|  สามเสนนอก|ห้วยขวาง|จังหวัดกรุงเทพมหานคร|2021-09-19 06:47:...|    0|null|        null|2022-02-22 04:30:...|\n",
      "|2021-AFPUXZ|        {ถนน,สะพาน}|                null|1 ซ่อมทางเท้าหลัง...|https://storage.g...|                null|[13.72338, 100.52...|37 10 ซอย สีลม 9 ...|       สีลม|  บางรัก|       กรุงเทพมหานคร|2021-09-19 07:40:...|    0|null|        null|2022-02-22 04:30:...|\n",
      "|2021-CGPMUN|{น้ำท่วม,ร้องเรียน}|เขตประเวศ,ฝ่ายโยธ...|น้ำท่วมเวลาฝนตกแล...|https://storage.g...|https://storage.g...|[13.67891, 100.66...|189 เฉลิมพระเกียร...|    หนองบอน|  ประเวศ|       กรุงเทพมหานคร|2021-09-19 14:56:...|    1|   4|        null|2022-06-21 08:21:...|\n",
      "+-----------+-------------------+--------------------+--------------------+--------------------+--------------------+--------------------+--------------------+-----------+--------+--------------------+--------------------+-----+----+------------+--------------------+\n",
      "only showing top 5 rows\n",
      "\n"
     ]
    }
   ],
   "source": [
    "# change state to boolean \n",
    "df_use = df.withColumn('state', when(df.state == 'เสร็จสิ้น', 1).otherwise(0))\n",
    "\n",
    "# change coords to pair and swap them into format [latitude, longtitude]\n",
    "flatten = udf(lambda x: list(chain.from_iterable(x)), ArrayType(StringType()))\n",
    "df_use = df_use.withColumn('coords', array(reverse(split(df.coords, ','))))\n",
    "df_use = df_use.withColumn('coords', flatten('coords'))\n",
    "df_use.show(5)"
   ]
  },
  {
   "cell_type": "code",
   "execution_count": 60,
   "metadata": {},
   "outputs": [
    {
     "name": "stdout",
     "output_type": "stream",
     "text": [
      "root\n",
      " |-- ticket_id: string (nullable = true)\n",
      " |-- type: string (nullable = true)\n",
      " |-- organization: string (nullable = true)\n",
      " |-- comment: string (nullable = true)\n",
      " |-- photo: string (nullable = true)\n",
      " |-- photo_after: string (nullable = true)\n",
      " |-- coords: array (nullable = true)\n",
      " |    |-- element: string (containsNull = true)\n",
      " |-- address: string (nullable = true)\n",
      " |-- subdistrict: string (nullable = true)\n",
      " |-- district: string (nullable = true)\n",
      " |-- province: string (nullable = true)\n",
      " |-- timestamp: string (nullable = true)\n",
      " |-- state: integer (nullable = false)\n",
      " |-- star: string (nullable = true)\n",
      " |-- count_reopen: string (nullable = true)\n",
      " |-- last_activity: string (nullable = true)\n",
      "\n"
     ]
    }
   ],
   "source": [
    "df_use.printSchema()"
   ]
  },
  {
   "cell_type": "code",
   "execution_count": null,
   "metadata": {},
   "outputs": [],
   "source": []
  }
 ],
 "metadata": {
  "kernelspec": {
   "display_name": "base",
   "language": "python",
   "name": "python3"
  },
  "language_info": {
   "codemirror_mode": {
    "name": "ipython",
    "version": 3
   },
   "file_extension": ".py",
   "mimetype": "text/x-python",
   "name": "python",
   "nbconvert_exporter": "python",
   "pygments_lexer": "ipython3",
   "version": "3.10.9"
  },
  "orig_nbformat": 4
 },
 "nbformat": 4,
 "nbformat_minor": 2
}
