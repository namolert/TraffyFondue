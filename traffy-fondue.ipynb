{
 "cells": [
  {
   "cell_type": "code",
   "execution_count": 2,
   "metadata": {},
   "outputs": [
    {
     "name": "stdout",
     "output_type": "stream",
     "text": [
      "Requirement already satisfied: pyspark in c:\\users\\acer\\miniconda3\\envs\\py3109\\lib\\site-packages (3.4.0)\n",
      "Requirement already satisfied: py4j==0.10.9.7 in c:\\users\\acer\\miniconda3\\envs\\py3109\\lib\\site-packages (from pyspark) (0.10.9.7)\n",
      "Requirement already satisfied: findspark in c:\\users\\acer\\miniconda3\\envs\\py3109\\lib\\site-packages (2.0.1)\n",
      "Requirement already satisfied: folium in c:\\users\\acer\\miniconda3\\envs\\py3109\\lib\\site-packages (0.14.0)\n",
      "Requirement already satisfied: requests in c:\\users\\acer\\miniconda3\\envs\\py3109\\lib\\site-packages (from folium) (2.28.1)\n",
      "Requirement already satisfied: jinja2>=2.9 in c:\\users\\acer\\miniconda3\\envs\\py3109\\lib\\site-packages (from folium) (3.1.2)\n",
      "Requirement already satisfied: branca>=0.6.0 in c:\\users\\acer\\miniconda3\\envs\\py3109\\lib\\site-packages (from folium) (0.6.0)\n",
      "Requirement already satisfied: numpy in c:\\users\\acer\\miniconda3\\envs\\py3109\\lib\\site-packages (from folium) (1.21.5)\n",
      "Requirement already satisfied: MarkupSafe>=2.0 in c:\\users\\acer\\miniconda3\\envs\\py3109\\lib\\site-packages (from jinja2>=2.9->folium) (2.1.1)\n",
      "Requirement already satisfied: certifi>=2017.4.17 in c:\\users\\acer\\miniconda3\\envs\\py3109\\lib\\site-packages (from requests->folium) (2022.12.7)\n",
      "Requirement already satisfied: urllib3<1.27,>=1.21.1 in c:\\users\\acer\\miniconda3\\envs\\py3109\\lib\\site-packages (from requests->folium) (1.26.14)\n",
      "Requirement already satisfied: charset-normalizer<3,>=2 in c:\\users\\acer\\miniconda3\\envs\\py3109\\lib\\site-packages (from requests->folium) (2.0.4)\n",
      "Requirement already satisfied: idna<4,>=2.5 in c:\\users\\acer\\miniconda3\\envs\\py3109\\lib\\site-packages (from requests->folium) (3.4)\n",
      "Requirement already satisfied: geopy in c:\\users\\acer\\miniconda3\\envs\\py3109\\lib\\site-packages (2.3.0)\n",
      "Requirement already satisfied: geographiclib<3,>=1.52 in c:\\users\\acer\\miniconda3\\envs\\py3109\\lib\\site-packages (from geopy) (2.0)\n"
     ]
    }
   ],
   "source": [
    "! pip install pyspark\n",
    "! pip install findspark\n",
    "! pip install folium\n",
    "! pip install geopy"
   ]
  },
  {
   "cell_type": "code",
   "execution_count": 3,
   "metadata": {},
   "outputs": [],
   "source": [
    "import os\n",
    "import findspark\n",
    "from pyspark.sql import SparkSession\n",
    "from pyspark.sql.functions import col, avg, min, max, countDistinct, desc, explode, split, col, isnull, sum, isnan, when, count\n",
    "from pyspark.ml import Pipeline\n",
    "from pyspark.ml.feature import OneHotEncoder, StringIndexer, VectorAssembler\n",
    "import numpy as np\n",
    "import pandas as pd\n",
    "from sklearn.impute import SimpleImputer\n",
    "from scipy.stats import kurtosis, skew\n",
    "import math\n",
    "import folium\n",
    "from geopy.geocoders import Nominatim"
   ]
  },
  {
   "cell_type": "code",
   "execution_count": 4,
   "metadata": {},
   "outputs": [],
   "source": [
    "findspark.init()"
   ]
  },
  {
   "cell_type": "code",
   "execution_count": 5,
   "metadata": {},
   "outputs": [],
   "source": [
    "spark_url = 'local'\n",
    "spark = SparkSession.builder\\\n",
    "        .master(spark_url)\\\n",
    "        .appName('Spark SQL')\\\n",
    "        .getOrCreate()\n",
    "spark.conf.set(\"spark.sql.csv.parser.multiLine\", \"true\")"
   ]
  },
  {
   "cell_type": "code",
   "execution_count": 6,
   "metadata": {},
   "outputs": [
    {
     "name": "stdout",
     "output_type": "stream",
     "text": [
      "+-----------+-------------------+--------------------+--------------------+--------------------+--------------------+------------------+--------------------+-----------+--------+--------------------+--------------------+--------------+----+------------+--------------------+\n",
      "|  ticket_id|               type|        organization|             comment|               photo|         photo_after|            coords|             address|subdistrict|district|            province|           timestamp|         state|star|count_reopen|       last_activity|\n",
      "+-----------+-------------------+--------------------+--------------------+--------------------+--------------------+------------------+--------------------+-----------+--------+--------------------+--------------------+--------------+----+------------+--------------------+\n",
      "|2021-9LHDM6|                 {}|                null|            ไม่มีภาพ|https://storage.g...|                null|100.48661,13.79386|1867 จรัญสนิทวงศ์...|    บางพลัด| บางพลัด|       กรุงเทพมหานคร|2021-09-01 10:44:...|กำลังดำเนินการ|null|        null|2022-02-22 04:59:...|\n",
      "|2021-FYJTFP|        {ความสะอาด}|          เขตบางซื่อ|             ขยะเยอะ|https://storage.g...|                null|100.53084,13.81865|12/14 ถนน กรุงเทพ...|       null|    null|       กรุงเทพมหานคร|2021-09-03 12:51:...|     เสร็จสิ้น|null|        null|2022-06-04 15:34:...|\n",
      "|2021-8GKAR9|            {สายไฟ}|ยังไม่มีหน่วยงานร...|1. เถาวัลย์งอดบนส...|https://storage.g...|                null|100.57685,13.79704|335/31 ลาดพร้าว แ...|  สามเสนนอก|ห้วยขวาง|จังหวัดกรุงเทพมหานคร|2021-09-19 06:47:...|กำลังดำเนินการ|null|        null|2022-02-22 04:30:...|\n",
      "|2021-AFPUXZ|        {ถนน,สะพาน}|                null|1 ซ่อมทางเท้าหลัง...|https://storage.g...|                null|100.52916,13.72338|37 10 ซอย สีลม 9 ...|       สีลม|  บางรัก|       กรุงเทพมหานคร|2021-09-19 07:40:...|กำลังดำเนินการ|null|        null|2022-02-22 04:30:...|\n",
      "|2021-CGPMUN|{น้ำท่วม,ร้องเรียน}|เขตประเวศ,ฝ่ายโยธ...|น้ำท่วมเวลาฝนตกแล...|https://storage.g...|https://storage.g...|100.66709,13.67891|189 เฉลิมพระเกียร...|    หนองบอน|  ประเวศ|       กรุงเทพมหานคร|2021-09-19 14:56:...|     เสร็จสิ้น|   4|        null|2022-06-21 08:21:...|\n",
      "+-----------+-------------------+--------------------+--------------------+--------------------+--------------------+------------------+--------------------+-----------+--------+--------------------+--------------------+--------------+----+------------+--------------------+\n",
      "only showing top 5 rows\n",
      "\n"
     ]
    }
   ],
   "source": [
    "path = 'bangkok_traffy.csv'\n",
    "df = spark.read.option(\"multiLine\", \"true\").csv(path, header=True, inferSchema=True)\n",
    "df.show(5)"
   ]
  },
  {
   "cell_type": "code",
   "execution_count": 7,
   "metadata": {},
   "outputs": [
    {
     "name": "stdout",
     "output_type": "stream",
     "text": [
      "+---------+----+------------+-------+-----+-----------+------+-------+-----------+--------+--------+---------+-----+------+------------+-------------+\n",
      "|ticket_id|type|organization|comment|photo|photo_after|coords|address|subdistrict|district|province|timestamp|state|  star|count_reopen|last_activity|\n",
      "+---------+----+------------+-------+-----+-----------+------+-------+-----------+--------+--------+---------+-----+------+------------+-------------+\n",
      "|     2413|1550|        2640|   3911| 2089|      85624|  2019|   4433|       2089|    2092|    2393|     2233| 2026|164087|      120042|         2558|\n",
      "+---------+----+------------+-------+-----+-----------+------+-------+-----------+--------+--------+---------+-----+------+------------+-------------+\n",
      "\n"
     ]
    }
   ],
   "source": [
    "null_counts = df.select([count(when(isnan(c) | col(c).isNull(), c)).alias(c) for c in df.columns])\n",
    "null_counts.show()"
   ]
  },
  {
   "cell_type": "code",
   "execution_count": 8,
   "metadata": {},
   "outputs": [
    {
     "name": "stdout",
     "output_type": "stream",
     "text": [
      "Row(ticket_id=None, type='{ถนน}', organization='สำนักงาน ป.ป.ท.,เขตจอมทอง,ฝ่ายเทศกิจ เขตจอมทอง,ผอ.เขตจอมทอง (นายณัฐพงษ์),กลุ่มกรุงธนเหนือ (รองปลัดฯ เฉลิมพล)', comment=None, photo='https://storage.googleapis.com/traffy_public_bucket/TeamChadChart/corruption_photo2.png', photo_after='https://storage.googleapis.com/traffy_public_bucket/attachment/2022-06/e9596093de70ae8abacd6574f26a2d0f4466fe9f.jpg', coords='100.45568,13.69103', address=None, subdistrict='บางขุนเทียน', district='จอมทอง', province='กรุงเทพมหานคร', timestamp='2022-06-09 23:34:34.98044+00', state='เสร็จสิ้น', star='5', count_reopen=None, last_activity='2022-06-10 11:02:34.607728+00') \n",
      "\n",
      "Row(ticket_id='2022-7DABXT', type='{สะพาน}', organization=None, comment='\"เคยดีใจมีสายสีน้ำเงินสถานี\"\"แยกไฟฉาย\"\"', photo=None, photo_after=None, coords=None, address=None, subdistrict=None, district=None, province=None, timestamp=None, state=None, star=None, count_reopen=None, last_activity=None) \n",
      "\n",
      "Row(ticket_id='2022-7DABXT', type='{สะพาน}', organization=None, comment='\"เคยดีใจมีสายสีน้ำเงินสถานี\"\"แยกไฟฉาย\"\"', photo=None, photo_after=None, coords=None, address=None, subdistrict=None, district=None, province=None, timestamp=None, state=None, star=None, count_reopen=None, last_activity=None) \n",
      "\n"
     ]
    }
   ],
   "source": [
    "# Filter the DataFrame to include only rows with null values in the \"column_name\" column\n",
    "ticket_id_null_df = df.filter(df.ticket_id.isNull())\n",
    "coords_null_df = df.filter(df.coords.isNull())\n",
    "address_null_df = df.filter(df.address.isNull())\n",
    "\n",
    "def check_first_null(filtered_df):\n",
    "    # Check if the filtered DataFrame is empty\n",
    "    if filtered_df.count() == 0:\n",
    "        return f\"No null values in {filtered_df}.\"\n",
    "    else:\n",
    "        first_row = filtered_df.head()\n",
    "        return first_row\n",
    "\n",
    "print(check_first_null(ticket_id_null_df), \"\\n\")\n",
    "print(check_first_null(coords_null_df), \"\\n\")\n",
    "print(check_first_null(address_null_df), \"\\n\")"
   ]
  },
  {
   "attachments": {},
   "cell_type": "markdown",
   "metadata": {},
   "source": [
    "From above cells give us the first row with null value from each column selected (ticket_id, coords, address) to tell some relationship of those null value.\n",
    "1. The ticket_id is null when the state='เสร็จสิ้น', it's mean we cannot drop this column significantly.\n",
    "2. The address has null value 2 times more than coords. In the first null row we can see both of them are null. So it might tell that if no coords, no address too and not vice versa. We'll check in next step. "
   ]
  },
  {
   "cell_type": "code",
   "execution_count": 9,
   "metadata": {},
   "outputs": [],
   "source": [
    "# create new dataframe with only columns we want\n",
    "df_use = df.select(df['ticket_id'], df['type'], df['coords'], df['address'], df['subdistrict'], df['district'], df['timestamp'])"
   ]
  },
  {
   "cell_type": "code",
   "execution_count": 10,
   "metadata": {},
   "outputs": [
    {
     "name": "stdout",
     "output_type": "stream",
     "text": [
      "+------+-------+\n",
      "|coords|address|\n",
      "+------+-------+\n",
      "|     1|   2415|\n",
      "+------+-------+\n",
      "\n"
     ]
    }
   ],
   "source": [
    "sub = ['coords', 'address']\n",
    "df_use = df_use.dropna(how='all', subset=sub)\n",
    "sub_null_counts = df_use.select([count(when(isnan(c) | col(c).isNull(), c)).alias(c) for c in sub])\n",
    "sub_null_counts.show()"
   ]
  },
  {
   "attachments": {},
   "cell_type": "markdown",
   "metadata": {},
   "source": [
    "Due to geolocator.geocode() format need ',' to desperate sub-location, so we need to put in the right format"
   ]
  },
  {
   "cell_type": "code",
   "execution_count": 11,
   "metadata": {},
   "outputs": [
    {
     "name": "stdout",
     "output_type": "stream",
     "text": [
      "[13.7885978, 100.5011364]\n"
     ]
    },
    {
     "data": {
      "text/html": [
       "<div style=\"width:100%;\"><div style=\"position:relative;width:100%;height:0;padding-bottom:60%;\"><span style=\"color:#565656\">Make this Notebook Trusted to load map: File -> Trust Notebook</span><iframe srcdoc=\"&lt;!DOCTYPE html&gt;\n",
       "&lt;html&gt;\n",
       "&lt;head&gt;\n",
       "    \n",
       "    &lt;meta http-equiv=&quot;content-type&quot; content=&quot;text/html; charset=UTF-8&quot; /&gt;\n",
       "    \n",
       "        &lt;script&gt;\n",
       "            L_NO_TOUCH = false;\n",
       "            L_DISABLE_3D = false;\n",
       "        &lt;/script&gt;\n",
       "    \n",
       "    &lt;style&gt;html, body {width: 100%;height: 100%;margin: 0;padding: 0;}&lt;/style&gt;\n",
       "    &lt;style&gt;#map {position:absolute;top:0;bottom:0;right:0;left:0;}&lt;/style&gt;\n",
       "    &lt;script src=&quot;https://cdn.jsdelivr.net/npm/leaflet@1.9.3/dist/leaflet.js&quot;&gt;&lt;/script&gt;\n",
       "    &lt;script src=&quot;https://code.jquery.com/jquery-1.12.4.min.js&quot;&gt;&lt;/script&gt;\n",
       "    &lt;script src=&quot;https://cdn.jsdelivr.net/npm/bootstrap@5.2.2/dist/js/bootstrap.bundle.min.js&quot;&gt;&lt;/script&gt;\n",
       "    &lt;script src=&quot;https://cdnjs.cloudflare.com/ajax/libs/Leaflet.awesome-markers/2.0.2/leaflet.awesome-markers.js&quot;&gt;&lt;/script&gt;\n",
       "    &lt;link rel=&quot;stylesheet&quot; href=&quot;https://cdn.jsdelivr.net/npm/leaflet@1.9.3/dist/leaflet.css&quot;/&gt;\n",
       "    &lt;link rel=&quot;stylesheet&quot; href=&quot;https://cdn.jsdelivr.net/npm/bootstrap@5.2.2/dist/css/bootstrap.min.css&quot;/&gt;\n",
       "    &lt;link rel=&quot;stylesheet&quot; href=&quot;https://netdna.bootstrapcdn.com/bootstrap/3.0.0/css/bootstrap.min.css&quot;/&gt;\n",
       "    &lt;link rel=&quot;stylesheet&quot; href=&quot;https://cdn.jsdelivr.net/npm/@fortawesome/fontawesome-free@6.2.0/css/all.min.css&quot;/&gt;\n",
       "    &lt;link rel=&quot;stylesheet&quot; href=&quot;https://cdnjs.cloudflare.com/ajax/libs/Leaflet.awesome-markers/2.0.2/leaflet.awesome-markers.css&quot;/&gt;\n",
       "    &lt;link rel=&quot;stylesheet&quot; href=&quot;https://cdn.jsdelivr.net/gh/python-visualization/folium/folium/templates/leaflet.awesome.rotate.min.css&quot;/&gt;\n",
       "    \n",
       "            &lt;meta name=&quot;viewport&quot; content=&quot;width=device-width,\n",
       "                initial-scale=1.0, maximum-scale=1.0, user-scalable=no&quot; /&gt;\n",
       "            &lt;style&gt;\n",
       "                #map_12fa23ba5051172d3b27a63607529b5b {\n",
       "                    position: relative;\n",
       "                    width: 100.0%;\n",
       "                    height: 100.0%;\n",
       "                    left: 0.0%;\n",
       "                    top: 0.0%;\n",
       "                }\n",
       "                .leaflet-container { font-size: 1rem; }\n",
       "            &lt;/style&gt;\n",
       "        \n",
       "&lt;/head&gt;\n",
       "&lt;body&gt;\n",
       "    \n",
       "    \n",
       "            &lt;div class=&quot;folium-map&quot; id=&quot;map_12fa23ba5051172d3b27a63607529b5b&quot; &gt;&lt;/div&gt;\n",
       "        \n",
       "&lt;/body&gt;\n",
       "&lt;script&gt;\n",
       "    \n",
       "    \n",
       "            var map_12fa23ba5051172d3b27a63607529b5b = L.map(\n",
       "                &quot;map_12fa23ba5051172d3b27a63607529b5b&quot;,\n",
       "                {\n",
       "                    center: [13.7885978, 100.5011364],\n",
       "                    crs: L.CRS.EPSG3857,\n",
       "                    zoom: 15,\n",
       "                    zoomControl: true,\n",
       "                    preferCanvas: false,\n",
       "                }\n",
       "            );\n",
       "\n",
       "            \n",
       "\n",
       "        \n",
       "    \n",
       "            var tile_layer_8df7f8ec6027fbb58b4392e0cf6264ef = L.tileLayer(\n",
       "                &quot;https://{s}.tile.openstreetmap.org/{z}/{x}/{y}.png&quot;,\n",
       "                {&quot;attribution&quot;: &quot;Data by \\u0026copy; \\u003ca target=\\&quot;_blank\\&quot; href=\\&quot;http://openstreetmap.org\\&quot;\\u003eOpenStreetMap\\u003c/a\\u003e, under \\u003ca target=\\&quot;_blank\\&quot; href=\\&quot;http://www.openstreetmap.org/copyright\\&quot;\\u003eODbL\\u003c/a\\u003e.&quot;, &quot;detectRetina&quot;: false, &quot;maxNativeZoom&quot;: 18, &quot;maxZoom&quot;: 18, &quot;minZoom&quot;: 0, &quot;noWrap&quot;: false, &quot;opacity&quot;: 1, &quot;subdomains&quot;: &quot;abc&quot;, &quot;tms&quot;: false}\n",
       "            ).addTo(map_12fa23ba5051172d3b27a63607529b5b);\n",
       "        \n",
       "    \n",
       "            var marker_03defba9b9b882e53f0546b137c1d8e5 = L.marker(\n",
       "                [13.7885978, 100.5011364],\n",
       "                {}\n",
       "            ).addTo(map_12fa23ba5051172d3b27a63607529b5b);\n",
       "        \n",
       "&lt;/script&gt;\n",
       "&lt;/html&gt;\" style=\"position:absolute;width:100%;height:100%;left:0;top:0;border:none !important;\" allowfullscreen webkitallowfullscreen mozallowfullscreen></iframe></div></div>"
      ],
      "text/plain": [
       "<folium.folium.Map at 0x128f8c4b490>"
      ]
     },
     "execution_count": 11,
     "metadata": {},
     "output_type": "execute_result"
    }
   ],
   "source": [
    "# example use\n",
    "# The original data is \"1867 จรัญสนิทวงศ์ แขวง บางพลัด เขตบางพลัด กรุงเทพมหานคร 10700 ประเทศไทย\".\n",
    "# The format data is \"1867 จรัญสนิทวงศ์, แขวงบางพลัด, เขตบางพลัด, กรุงเทพมหานคร, 10700\".\n",
    "# Note that we can ignore some unneccessary data ex. postal code\n",
    "# and the format can shuffle data in any place such as this example.  \n",
    "\n",
    "geolocator = Nominatim(user_agent=\"ped-hua-som\")\n",
    "location = geolocator.geocode(\"1867 จรัญสนิทวงศ์, กรุงเทพมหานคร, เขตบางพลัด, แขวงบางพลัด, 10700\")\n",
    "print([location.latitude, location.longitude])\n",
    "m = folium.Map(location=[location.latitude, location.longitude], zoom_start=15)\n",
    "folium.Marker(location=[location.latitude, location.longitude]).add_to(m)\n",
    "m"
   ]
  },
  {
   "cell_type": "code",
   "execution_count": 12,
   "metadata": {},
   "outputs": [],
   "source": [
    "import re\n",
    "from pyspark.sql.functions import udf, concat_ws\n",
    "from pyspark.sql.types import StringType\n",
    "pattern = re.compile(r'(\\d+)\\s(.+)\\s(\\d{5})\\s(.+)')"
   ]
  },
  {
   "cell_type": "code",
   "execution_count": 13,
   "metadata": {},
   "outputs": [
    {
     "name": "stdout",
     "output_type": "stream",
     "text": [
      "  House Number                                             Street Postal Code  \\\n",
      "0         1867  จรัญสนิทวงศ์ แขวง บางพลัด เขตบางพลัด กรุงเทพมห...       10700   \n",
      "1         1234   พระราม 9 แขวง ห้วยขวาง เขตห้วยขวาง กรุงเทพมหานคร       10310   \n",
      "\n",
      "        City                                  Formatted Address  \n",
      "0  ประเทศไทย  1867, จรัญสนิทวงศ์ แขวง บางพลัด เขตบางพลัด กรุ...  \n",
      "1  ประเทศไทย  1234, พระราม 9 แขวง ห้วยขวาง เขตห้วยขวาง กรุงเ...  \n"
     ]
    }
   ],
   "source": [
    "dfp = pd.DataFrame({'Address': ['1867 จรัญสนิทวงศ์ แขวง บางพลัด เขตบางพลัด กรุงเทพมหานคร 10700 ประเทศไทย',\n",
    "                               '1234 พระราม 9 แขวง ห้วยขวาง เขตห้วยขวาง กรุงเทพมหานคร 10310 ประเทศไทย']})\n",
    "dfp[['House Number', 'Street', 'Postal Code', 'City']] = dfp['Address'].str.extract(pattern)\n",
    "dfp['Formatted Address'] = dfp[['House Number', 'Street', 'City', 'Postal Code']].apply(lambda x: ', '.join(x.dropna().values), axis=1)\n",
    "dfp = dfp.drop('Address', axis=1)\n",
    "print(dfp)\n"
   ]
  },
  {
   "cell_type": "code",
   "execution_count": 14,
   "metadata": {},
   "outputs": [],
   "source": [
    "# the above flow is wrong \n",
    "# 1. assume that street name is next to house number\n",
    "# 2. find 'แขวง' 'เขต' and others are the same"
   ]
  },
  {
   "cell_type": "code",
   "execution_count": null,
   "metadata": {},
   "outputs": [],
   "source": []
  }
 ],
 "metadata": {
  "kernelspec": {
   "display_name": "Python (Python 3.10.9)",
   "language": "python",
   "name": "py3109"
  },
  "language_info": {
   "codemirror_mode": {
    "name": "ipython",
    "version": 3
   },
   "file_extension": ".py",
   "mimetype": "text/x-python",
   "name": "python",
   "nbconvert_exporter": "python",
   "pygments_lexer": "ipython3",
   "version": "3.10.9"
  },
  "orig_nbformat": 4
 },
 "nbformat": 4,
 "nbformat_minor": 2
}
